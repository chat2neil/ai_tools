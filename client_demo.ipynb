{
 "cells": [
  {
   "cell_type": "code",
   "execution_count": 9,
   "metadata": {},
   "outputs": [],
   "source": [
    "from langgraph_sdk import get_client\n",
    "from pprint import pprint\n",
    "from langchain_core.messages import HumanMessage\n",
    "\n",
    "client = get_client(url=\"http://localhost:52510\")"
   ]
  },
  {
   "cell_type": "code",
   "execution_count": 8,
   "metadata": {},
   "outputs": [
    {
     "name": "stdout",
     "output_type": "stream",
     "text": [
      "[{'assistant_id': '4fa68834-b850-5590-9ef4-03f78cac5999',\n",
      "  'config': {},\n",
      "  'created_at': '2025-02-08T05:14:52.155409+00:00',\n",
      "  'graph_id': 'research_assistant',\n",
      "  'metadata': {'created_by': 'system'},\n",
      "  'name': 'research_assistant',\n",
      "  'updated_at': '2025-02-08T05:14:52.155409+00:00',\n",
      "  'version': 1}]\n"
     ]
    }
   ],
   "source": [
    "assistants = await client.assistants.search()\n",
    "pprint(assistants)"
   ]
  },
  {
   "cell_type": "code",
   "execution_count": null,
   "metadata": {},
   "outputs": [
    {
     "name": "stdout",
     "output_type": "stream",
     "text": [
      "{'config': {},\n",
      " 'created_at': '2025-02-08T19:01:55.164831+00:00',\n",
      " 'interrupts': {},\n",
      " 'metadata': {},\n",
      " 'status': 'idle',\n",
      " 'thread_id': '1f557d1d-1635-4c4a-a2f4-3ecfcaf47a33',\n",
      " 'updated_at': '2025-02-08T19:01:55.164831+00:00',\n",
      " 'values': None}\n",
      "{'additional_kwargs': {'additional_kwargs': {},\n",
      "                       'example': False,\n",
      "                       'response_metadata': {}},\n",
      " 'content': 'Multiply 3 by 2.',\n",
      " 'example': False,\n",
      " 'id': 'f78a7aa3-2212-4bbd-9b16-92e19904f769',\n",
      " 'name': None,\n",
      " 'response_metadata': {},\n",
      " 'type': 'human'}\n",
      "\n",
      "\n",
      "{'additional_kwargs': {'refusal': None,\n",
      "                       'tool_calls': [{'function': {'arguments': '{\"a\":3,\"b\":2}',\n",
      "                                                    'name': 'multiply'},\n",
      "                                       'id': 'call_MzNsbkiq7UgUTyYqkZWCMpXZ',\n",
      "                                       'type': 'function'}]},\n",
      " 'content': '',\n",
      " 'example': False,\n",
      " 'id': 'run-57227137-61df-477b-9cf4-92dded7be40e-0',\n",
      " 'invalid_tool_calls': [],\n",
      " 'name': None,\n",
      " 'response_metadata': {'finish_reason': 'tool_calls',\n",
      "                       'logprobs': None,\n",
      "                       'model_name': 'gpt-4o-2024-08-06',\n",
      "                       'system_fingerprint': 'fp_50cad350e4',\n",
      "                       'token_usage': {'completion_tokens': 18,\n",
      "                                       'completion_tokens_details': {'accepted_prediction_tokens': 0,\n",
      "                                                                     'audio_tokens': 0,\n",
      "                                                                     'reasoning_tokens': 0,\n",
      "                                                                     'rejected_prediction_tokens': 0},\n",
      "                                       'prompt_tokens': 132,\n",
      "                                       'prompt_tokens_details': {'audio_tokens': 0,\n",
      "                                                                 'cached_tokens': 0},\n",
      "                                       'total_tokens': 150}},\n",
      " 'tool_calls': [{'args': {'a': 3, 'b': 2},\n",
      "                 'id': 'call_MzNsbkiq7UgUTyYqkZWCMpXZ',\n",
      "                 'name': 'multiply',\n",
      "                 'type': 'tool_call'}],\n",
      " 'type': 'ai',\n",
      " 'usage_metadata': {'input_token_details': {'audio': 0, 'cache_read': 0},\n",
      "                    'input_tokens': 132,\n",
      "                    'output_token_details': {'audio': 0, 'reasoning': 0},\n",
      "                    'output_tokens': 18,\n",
      "                    'total_tokens': 150}}\n",
      "\n",
      "\n",
      "{'additional_kwargs': {},\n",
      " 'artifact': None,\n",
      " 'content': '6',\n",
      " 'id': 'fcc04e0b-bd3c-4362-a18a-36fadd519544',\n",
      " 'name': 'multiply',\n",
      " 'response_metadata': {},\n",
      " 'status': 'success',\n",
      " 'tool_call_id': 'call_MzNsbkiq7UgUTyYqkZWCMpXZ',\n",
      " 'type': 'tool'}\n",
      "\n",
      "\n",
      "{'additional_kwargs': {'refusal': None},\n",
      " 'content': 'The result of multiplying 3 by 2 is 6.',\n",
      " 'example': False,\n",
      " 'id': 'run-5fed797a-8f5a-4ecf-baba-2e0bb4ec17a7-0',\n",
      " 'invalid_tool_calls': [],\n",
      " 'name': None,\n",
      " 'response_metadata': {'finish_reason': 'stop',\n",
      "                       'logprobs': None,\n",
      "                       'model_name': 'gpt-4o-2024-08-06',\n",
      "                       'system_fingerprint': 'fp_50cad350e4',\n",
      "                       'token_usage': {'completion_tokens': 15,\n",
      "                                       'completion_tokens_details': {'accepted_prediction_tokens': 0,\n",
      "                                                                     'audio_tokens': 0,\n",
      "                                                                     'reasoning_tokens': 0,\n",
      "                                                                     'rejected_prediction_tokens': 0},\n",
      "                                       'prompt_tokens': 157,\n",
      "                                       'prompt_tokens_details': {'audio_tokens': 0,\n",
      "                                                                 'cached_tokens': 0},\n",
      "                                       'total_tokens': 172}},\n",
      " 'tool_calls': [],\n",
      " 'type': 'ai',\n",
      " 'usage_metadata': {'input_token_details': {'audio': 0, 'cache_read': 0},\n",
      "                    'input_tokens': 157,\n",
      "                    'output_token_details': {'audio': 0, 'reasoning': 0},\n",
      "                    'output_tokens': 15,\n",
      "                    'total_tokens': 172}}\n",
      "\n",
      "\n"
     ]
    }
   ],
   "source": [
    "thread = await client.threads.create()\n",
    "\n",
    "input = {\"messages\": [HumanMessage(content=\"Multiply 3 by 2.\")]}\n",
    "\n",
    "async for chunk in client.runs.stream(thread_id=thread[\"thread_id\"], assistant_id=\"research_assistant\", input=input, stream_mode=\"values\"):\n",
    "    if chunk.data and chunk.event != \"metadata\":\n",
    "        pprint(chunk.data[\"messages\"][-1])\n",
    "        print(\"\\n\")\n"
   ]
  }
 ],
 "metadata": {
  "kernelspec": {
   "display_name": "venv",
   "language": "python",
   "name": "python3"
  },
  "language_info": {
   "codemirror_mode": {
    "name": "ipython",
    "version": 3
   },
   "file_extension": ".py",
   "mimetype": "text/x-python",
   "name": "python",
   "nbconvert_exporter": "python",
   "pygments_lexer": "ipython3",
   "version": "3.11.11"
  }
 },
 "nbformat": 4,
 "nbformat_minor": 2
}
